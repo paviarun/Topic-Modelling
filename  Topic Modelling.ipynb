{
 "cells": [
  {
   "cell_type": "markdown",
   "id": "df85dbc8",
   "metadata": {},
   "source": [
    "# Topic Modelling\n",
    "- Unsupervised Learning\n",
    "- Document can contain multiple topics\n",
    "- Outputs A Topic distribution and distribution of words in topic\n",
    "- Word will have different weight in different topics\n",
    "\n",
    "    -  Techniques\n",
    "        - LSA\n",
    "        - PLSA\n",
    "        - LDA"
   ]
  },
  {
   "cell_type": "code",
   "execution_count": null,
   "id": "92be1f4b",
   "metadata": {},
   "outputs": [],
   "source": [
    "data=['This is on Topic Modelling',\"We are discussing about different topics with curious students\",\"Go extra mile to learn about new things\",\"Do your own research and apply different techniques for same problem\",\"Read research papers and try to implement the solution following the same\",\"I want to eat apples to healthy\",\"Avoid Junk foods to stay fit\",\"Eat, eat Snack only when you are hungry\",\"Heathly eating habits gives us healthy life style\"]"
   ]
  },
  {
   "cell_type": "code",
   "execution_count": null,
   "id": "9e556830",
   "metadata": {},
   "outputs": [],
   "source": [
    "import pandas as pd\n",
    "data=pd.read_csv('Amazon_Review.csv')"
   ]
  },
  {
   "cell_type": "code",
   "execution_count": null,
   "id": "a01f50fb",
   "metadata": {},
   "outputs": [],
   "source": [
    "data=data['Review']"
   ]
  },
  {
   "cell_type": "code",
   "execution_count": null,
   "id": "585c1e74",
   "metadata": {},
   "outputs": [],
   "source": [
    "from nltk.tokenize import word_tokenize\n",
    "from nltk.corpus import stopwords"
   ]
  },
  {
   "cell_type": "code",
   "execution_count": null,
   "id": "75aed992",
   "metadata": {},
   "outputs": [],
   "source": [
    "def preprocess(document):\n",
    "    'changes document to lower case and removes stopwords'\n",
    "\n",
    "    # change sentence to lower case\n",
    "    document = document.lower()\n",
    "\n",
    "    # tokenize into words\n",
    "    words = word_tokenize(document)\n",
    "\n",
    "    # remove stop words\n",
    "    words = [word for word in words if word not in stopwords.words(\"english\")]\n",
    "\n",
    "    # join words to make sentence\n",
    "    document = \" \".join(words)\n",
    "    \n",
    "    return document\n",
    "\n"
   ]
  },
  {
   "cell_type": "code",
   "execution_count": null,
   "id": "4994d2c1",
   "metadata": {},
   "outputs": [],
   "source": [
    "documents"
   ]
  },
  {
   "cell_type": "code",
   "execution_count": null,
   "id": "93951fc4",
   "metadata": {},
   "outputs": [],
   "source": [
    "# human-readable format of corpus (term-frequency)\n",
    "[[(dictionary[id], freq) for id, freq in cp] for cp in doc_term_matrix[6:8]]"
   ]
  },
  {
   "cell_type": "code",
   "execution_count": null,
   "id": "5b75c844",
   "metadata": {},
   "outputs": [],
   "source": [
    "documents = [preprocess(document).split() for document in data]\n",
    "print(documents)"
   ]
  },
  {
   "cell_type": "code",
   "execution_count": null,
   "id": "616fcaff",
   "metadata": {},
   "outputs": [],
   "source": [
    "import gensim"
   ]
  },
  {
   "cell_type": "code",
   "execution_count": null,
   "id": "1bc8a36c",
   "metadata": {},
   "outputs": [],
   "source": [
    "from gensim import corpora"
   ]
  },
  {
   "cell_type": "code",
   "execution_count": null,
   "id": "7e41c8e9",
   "metadata": {},
   "outputs": [],
   "source": [
    "dictionary = corpora.Dictionary(documents )\n",
    "\n",
    "# Converting list of documents (corpus) into Document Term Matrix using dictionary prepared above.\n",
    "doc_term_matrix = [dictionary.doc2bow(doc) for doc in documents]"
   ]
  },
  {
   "cell_type": "code",
   "execution_count": null,
   "id": "d781e058",
   "metadata": {},
   "outputs": [],
   "source": [
    "Lda = gensim.models.ldamodel.LdaModel"
   ]
  },
  {
   "cell_type": "code",
   "execution_count": null,
   "id": "fa8d6109",
   "metadata": {},
   "outputs": [],
   "source": [
    "ldamodel = Lda(doc_term_matrix, num_topics=3, id2word = dictionary, passes=50)"
   ]
  },
  {
   "cell_type": "code",
   "execution_count": null,
   "id": "50fdb276",
   "metadata": {},
   "outputs": [],
   "source": [
    "print(ldamodel.print_topics( num_words=5))"
   ]
  },
  {
   "cell_type": "code",
   "execution_count": null,
   "id": "37912362",
   "metadata": {},
   "outputs": [],
   "source": [
    "ldamodel.print_topics()"
   ]
  },
  {
   "cell_type": "code",
   "execution_count": null,
   "id": "5bd0e420",
   "metadata": {},
   "outputs": [],
   "source": [
    "# Plotting tools\n",
    "import pyLDAvis\n",
    "import pyLDAvis.gensim_models  # don't skip this\n",
    "import matplotlib.pyplot as plt\n",
    "%matplotlib inline"
   ]
  },
  {
   "cell_type": "code",
   "execution_count": null,
   "id": "23418afe",
   "metadata": {},
   "outputs": [],
   "source": [
    "import pyLDAvis.gensim_models"
   ]
  },
  {
   "cell_type": "code",
   "execution_count": null,
   "id": "a212406f",
   "metadata": {},
   "outputs": [],
   "source": [
    "documents"
   ]
  },
  {
   "cell_type": "code",
   "execution_count": null,
   "id": "1de810f1",
   "metadata": {},
   "outputs": [],
   "source": [
    "pyLDAvis.enable_notebook()\n",
    "vis = pyLDAvis.gensim_models.prepare(ldamodel, documents, dictionary)\n",
    "vis"
   ]
  },
  {
   "cell_type": "code",
   "execution_count": null,
   "id": "4a7f36a7",
   "metadata": {},
   "outputs": [],
   "source": [
    "# compute coherence value at various values of alpha and num_topics\n",
    "def compute_coherence_values(dictionary, corpus, texts, num_topics_range, alpha_range):\n",
    "    \n",
    "    coherence_values = []\n",
    "    model_list = []\n",
    "    for alpha in alpha_range:\n",
    "        for num_topics in num_topics_range:\n",
    "            lda_model = gensim.models.ldamodel.LdaModel(corpus=corpus,\n",
    "                                               id2word=dictionary,\n",
    "                                               num_topics=num_topics, \n",
    "                                               alpha=alpha,\n",
    "                                               per_word_topics=True)\n",
    "            model_list.append(lda_model)\n",
    "            coherencemodel = CoherenceModel(model=lda_model, texts=texts, dictionary=dictionary, coherence='c_v')\n",
    "            coherence_values.append((alpha, num_topics, coherencemodel.get_coherence()))\n",
    "        \n",
    "\n",
    "    return model_list, coherence_values"
   ]
  },
  {
   "cell_type": "code",
   "execution_count": null,
   "id": "bb6eb6c5",
   "metadata": {},
   "outputs": [],
   "source": [
    "# build models across a range of num_topics and alpha\n",
    "num_topics_range = [2, 6, 10, 15, 20]\n",
    "alpha_range = [0.01, 0.1, 1]\n",
    "model_list, coherence_values = compute_coherence_values(dictionary=dictionary, \n",
    "                                                        corpus=documents, \n",
    "                                                        texts=data_lemmatized, \n",
    "                                                        num_topics_range=num_topics_range, \n",
    "                                                        alpha_range=alpha_range)"
   ]
  },
  {
   "cell_type": "code",
   "execution_count": null,
   "id": "949e2f07",
   "metadata": {},
   "outputs": [],
   "source": [
    "documents"
   ]
  },
  {
   "cell_type": "code",
   "execution_count": null,
   "id": "698559dd",
   "metadata": {},
   "outputs": [],
   "source": [
    "from gensim.models.coherencemodel import CoherenceModel\n",
    "cm = CoherenceModel(topics=documents, corpus=data, dictionary=dictionary, coherence='u_mass')\n",
    "coherence = cm.get_coherence()  # get coherence value"
   ]
  },
  {
   "cell_type": "code",
   "execution_count": null,
   "id": "b37482f4",
   "metadata": {},
   "outputs": [],
   "source": []
  }
 ],
 "metadata": {
  "kernelspec": {
   "display_name": "Python 3",
   "language": "python",
   "name": "python3"
  },
  "language_info": {
   "codemirror_mode": {
    "name": "ipython",
    "version": 3
   },
   "file_extension": ".py",
   "mimetype": "text/x-python",
   "name": "python",
   "nbconvert_exporter": "python",
   "pygments_lexer": "ipython3",
   "version": "3.8.8"
  }
 },
 "nbformat": 4,
 "nbformat_minor": 5
}
